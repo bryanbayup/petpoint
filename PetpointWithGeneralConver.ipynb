{
  "nbformat": 4,
  "nbformat_minor": 0,
  "metadata": {
    "colab": {
      "provenance": [],
      "authorship_tag": "ABX9TyPjfaVrASC48esSCo8XmHhd",
      "include_colab_link": true
    },
    "kernelspec": {
      "name": "python3",
      "display_name": "Python 3"
    },
    "language_info": {
      "name": "python"
    }
  },
  "cells": [
    {
      "cell_type": "markdown",
      "metadata": {
        "id": "view-in-github",
        "colab_type": "text"
      },
      "source": [
        "<a href=\"https://colab.research.google.com/github/bryanbayup/petpoint/blob/main/PetpointWithGeneralConver.ipynb\" target=\"_parent\"><img src=\"https://colab.research.google.com/assets/colab-badge.svg\" alt=\"Open In Colab\"/></a>"
      ]
    },
    {
      "cell_type": "code",
      "execution_count": 1,
      "metadata": {
        "colab": {
          "base_uri": "https://localhost:8080/"
        },
        "id": "hPVpzJLt48L1",
        "outputId": "3d27e646-872f-440b-f574-2e85954d1465"
      },
      "outputs": [
        {
          "output_type": "stream",
          "name": "stdout",
          "text": [
            "Requirement already satisfied: Sastrawi in /usr/local/lib/python3.10/dist-packages (1.0.1)\n"
          ]
        }
      ],
      "source": [
        "!pip install Sastrawi"
      ]
    },
    {
      "cell_type": "code",
      "source": [
        "import re\n",
        "import string\n",
        "import pandas as pd\n",
        "from Sastrawi.StopWordRemover.StopWordRemoverFactory import StopWordRemoverFactory\n",
        "from sklearn.preprocessing import LabelEncoder\n",
        "from sklearn.feature_extraction.text import TfidfVectorizer\n",
        "from sklearn.model_selection import train_test_split\n",
        "import tensorflow as tf\n",
        "from tensorflow.keras.models import Sequential\n",
        "from tensorflow.keras.layers import Dense, Dropout"
      ],
      "metadata": {
        "id": "EP3C-CxptBXX"
      },
      "execution_count": 2,
      "outputs": []
    },
    {
      "cell_type": "markdown",
      "source": [
        "Membaca Dataset dan Preprocessing Teks"
      ],
      "metadata": {
        "id": "ICtkMk-j6UWX"
      }
    },
    {
      "cell_type": "code",
      "source": [
        "# Membaca dataset penyakit\n",
        "df_disease = pd.read_csv('disease_classification.csv')"
      ],
      "metadata": {
        "id": "yWGofBS6yU9_"
      },
      "execution_count": 3,
      "outputs": []
    },
    {
      "cell_type": "code",
      "source": [
        "# Preprocessing dataset\n",
        "def clean_text(text):\n",
        "    text = text.lower()\n",
        "    text = re.sub(r'\\d+', '', text)\n",
        "    text = text.translate(str.maketrans('', '', string.punctuation))\n",
        "    text = text.strip()\n",
        "    return text"
      ],
      "metadata": {
        "id": "NjF1Y3WxygN8"
      },
      "execution_count": 4,
      "outputs": []
    },
    {
      "cell_type": "code",
      "source": [
        "def remove_stopwords(text):\n",
        "    factory = StopWordRemoverFactory()\n",
        "    stopword_remover = factory.create_stop_word_remover()\n",
        "    cleaned_text = stopword_remover.remove(text)\n",
        "    return cleaned_text"
      ],
      "metadata": {
        "id": "ji28TusCynM-"
      },
      "execution_count": 5,
      "outputs": []
    },
    {
      "cell_type": "code",
      "source": [
        "df_disease['Cleaned_Gejala'] = df_disease['Gejala'].apply(clean_text).apply(remove_stopwords)\n",
        "df_disease['Cleaned_Penanganan'] = df_disease['Penanganan Pertama'].apply(clean_text).apply(remove_stopwords)"
      ],
      "metadata": {
        "id": "zBviz8VqyvLa"
      },
      "execution_count": 6,
      "outputs": []
    },
    {
      "cell_type": "code",
      "source": [
        "# Mengubah nama penyakit menjadi label numerik\n",
        "le_disease = LabelEncoder()\n",
        "df_disease['Label_Penyakit'] = le_disease.fit_transform(df_disease['Nama Penyakit'])"
      ],
      "metadata": {
        "id": "0p6Ydzegyy2V"
      },
      "execution_count": 7,
      "outputs": []
    },
    {
      "cell_type": "code",
      "source": [
        "# Menggabungkan teks gejala\n",
        "all_text_disease = df_disease['Cleaned_Gejala'].tolist()\n",
        "vectorizer_disease = TfidfVectorizer()\n",
        "X_disease = vectorizer_disease.fit_transform(all_text_disease)\n",
        "y_disease = df_disease['Label_Penyakit']"
      ],
      "metadata": {
        "id": "2wk8fSn_y3P_"
      },
      "execution_count": 8,
      "outputs": []
    },
    {
      "cell_type": "code",
      "source": [
        "# Membagi data untuk penyakit\n",
        "X_train_d, X_test_d, y_train_d, y_test_d = train_test_split(\n",
        "    X_disease, y_disease, test_size=0.2, random_state=42)"
      ],
      "metadata": {
        "id": "1qfc4Qnhy6pp"
      },
      "execution_count": 9,
      "outputs": []
    },
    {
      "cell_type": "code",
      "source": [
        "# Membangun model untuk penyakit\n",
        "model_disease = Sequential()\n",
        "model_disease.add(Dense(128, input_shape=(X_train_d.shape[1],), activation='relu'))\n",
        "model_disease.add(Dropout(0.5))\n",
        "model_disease.add(Dense(64, activation='relu'))\n",
        "model_disease.add(Dense(len(le_disease.classes_), activation='softmax'))\n",
        "model_disease.compile(optimizer='adam',\n",
        "                      loss='sparse_categorical_crossentropy',\n",
        "                      metrics=['accuracy'])\n",
        "model_disease.fit(X_train_d, y_train_d,\n",
        "                  epochs=50,\n",
        "                  batch_size=64,\n",
        "                  validation_data=(X_test_d, y_test_d))"
      ],
      "metadata": {
        "colab": {
          "base_uri": "https://localhost:8080/"
        },
        "id": "5HezMCDWy-vH",
        "outputId": "82873cf8-495b-413c-e859-626190e878e6"
      },
      "execution_count": 10,
      "outputs": [
        {
          "output_type": "stream",
          "name": "stderr",
          "text": [
            "/usr/local/lib/python3.10/dist-packages/keras/src/layers/core/dense.py:87: UserWarning: Do not pass an `input_shape`/`input_dim` argument to a layer. When using Sequential models, prefer using an `Input(shape)` object as the first layer in the model instead.\n",
            "  super().__init__(activity_regularizer=activity_regularizer, **kwargs)\n"
          ]
        },
        {
          "output_type": "stream",
          "name": "stdout",
          "text": [
            "Epoch 1/50\n",
            "\u001b[1m3/3\u001b[0m \u001b[32m━━━━━━━━━━━━━━━━━━━━\u001b[0m\u001b[37m\u001b[0m \u001b[1m3s\u001b[0m 365ms/step - accuracy: 0.0336 - loss: 2.3904 - val_accuracy: 0.2250 - val_loss: 2.2936\n",
            "Epoch 2/50\n",
            "\u001b[1m3/3\u001b[0m \u001b[32m━━━━━━━━━━━━━━━━━━━━\u001b[0m\u001b[37m\u001b[0m \u001b[1m1s\u001b[0m 78ms/step - accuracy: 0.1980 - loss: 2.3017 - val_accuracy: 0.4500 - val_loss: 2.2093\n",
            "Epoch 3/50\n",
            "\u001b[1m3/3\u001b[0m \u001b[32m━━━━━━━━━━━━━━━━━━━━\u001b[0m\u001b[37m\u001b[0m \u001b[1m0s\u001b[0m 118ms/step - accuracy: 0.4125 - loss: 2.2104 - val_accuracy: 0.7500 - val_loss: 2.1306\n",
            "Epoch 4/50\n",
            "\u001b[1m3/3\u001b[0m \u001b[32m━━━━━━━━━━━━━━━━━━━━\u001b[0m\u001b[37m\u001b[0m \u001b[1m1s\u001b[0m 103ms/step - accuracy: 0.6199 - loss: 2.1269 - val_accuracy: 0.7500 - val_loss: 2.0472\n",
            "Epoch 5/50\n",
            "\u001b[1m3/3\u001b[0m \u001b[32m━━━━━━━━━━━━━━━━━━━━\u001b[0m\u001b[37m\u001b[0m \u001b[1m0s\u001b[0m 67ms/step - accuracy: 0.6961 - loss: 2.0496 - val_accuracy: 1.0000 - val_loss: 1.9562\n",
            "Epoch 6/50\n",
            "\u001b[1m3/3\u001b[0m \u001b[32m━━━━━━━━━━━━━━━━━━━━\u001b[0m\u001b[37m\u001b[0m \u001b[1m0s\u001b[0m 109ms/step - accuracy: 0.7664 - loss: 1.9785 - val_accuracy: 1.0000 - val_loss: 1.8605\n",
            "Epoch 7/50\n",
            "\u001b[1m3/3\u001b[0m \u001b[32m━━━━━━━━━━━━━━━━━━━━\u001b[0m\u001b[37m\u001b[0m \u001b[1m1s\u001b[0m 60ms/step - accuracy: 0.8230 - loss: 1.8721 - val_accuracy: 1.0000 - val_loss: 1.7544\n",
            "Epoch 8/50\n",
            "\u001b[1m3/3\u001b[0m \u001b[32m━━━━━━━━━━━━━━━━━━━━\u001b[0m\u001b[37m\u001b[0m \u001b[1m0s\u001b[0m 58ms/step - accuracy: 0.8852 - loss: 1.7416 - val_accuracy: 1.0000 - val_loss: 1.6385\n",
            "Epoch 9/50\n",
            "\u001b[1m3/3\u001b[0m \u001b[32m━━━━━━━━━━━━━━━━━━━━\u001b[0m\u001b[37m\u001b[0m \u001b[1m0s\u001b[0m 68ms/step - accuracy: 0.8703 - loss: 1.6475 - val_accuracy: 1.0000 - val_loss: 1.5133\n",
            "Epoch 10/50\n",
            "\u001b[1m3/3\u001b[0m \u001b[32m━━━━━━━━━━━━━━━━━━━━\u001b[0m\u001b[37m\u001b[0m \u001b[1m0s\u001b[0m 50ms/step - accuracy: 0.8801 - loss: 1.5259 - val_accuracy: 1.0000 - val_loss: 1.3806\n",
            "Epoch 11/50\n",
            "\u001b[1m3/3\u001b[0m \u001b[32m━━━━━━━━━━━━━━━━━━━━\u001b[0m\u001b[37m\u001b[0m \u001b[1m0s\u001b[0m 92ms/step - accuracy: 0.9215 - loss: 1.3667 - val_accuracy: 1.0000 - val_loss: 1.2408\n",
            "Epoch 12/50\n",
            "\u001b[1m3/3\u001b[0m \u001b[32m━━━━━━━━━━━━━━━━━━━━\u001b[0m\u001b[37m\u001b[0m \u001b[1m0s\u001b[0m 68ms/step - accuracy: 0.9191 - loss: 1.2583 - val_accuracy: 1.0000 - val_loss: 1.0976\n",
            "Epoch 13/50\n",
            "\u001b[1m3/3\u001b[0m \u001b[32m━━━━━━━━━━━━━━━━━━━━\u001b[0m\u001b[37m\u001b[0m \u001b[1m0s\u001b[0m 82ms/step - accuracy: 0.9363 - loss: 1.1301 - val_accuracy: 1.0000 - val_loss: 0.9549\n",
            "Epoch 14/50\n",
            "\u001b[1m3/3\u001b[0m \u001b[32m━━━━━━━━━━━━━━━━━━━━\u001b[0m\u001b[37m\u001b[0m \u001b[1m0s\u001b[0m 143ms/step - accuracy: 0.9625 - loss: 0.9851 - val_accuracy: 1.0000 - val_loss: 0.8178\n",
            "Epoch 15/50\n",
            "\u001b[1m3/3\u001b[0m \u001b[32m━━━━━━━━━━━━━━━━━━━━\u001b[0m\u001b[37m\u001b[0m \u001b[1m1s\u001b[0m 150ms/step - accuracy: 0.9328 - loss: 0.8802 - val_accuracy: 1.0000 - val_loss: 0.6897\n",
            "Epoch 16/50\n",
            "\u001b[1m3/3\u001b[0m \u001b[32m━━━━━━━━━━━━━━━━━━━━\u001b[0m\u001b[37m\u001b[0m \u001b[1m1s\u001b[0m 131ms/step - accuracy: 0.9586 - loss: 0.7796 - val_accuracy: 1.0000 - val_loss: 0.5725\n",
            "Epoch 17/50\n",
            "\u001b[1m3/3\u001b[0m \u001b[32m━━━━━━━━━━━━━━━━━━━━\u001b[0m\u001b[37m\u001b[0m \u001b[1m0s\u001b[0m 152ms/step - accuracy: 0.9617 - loss: 0.6542 - val_accuracy: 1.0000 - val_loss: 0.4683\n",
            "Epoch 18/50\n",
            "\u001b[1m3/3\u001b[0m \u001b[32m━━━━━━━━━━━━━━━━━━━━\u001b[0m\u001b[37m\u001b[0m \u001b[1m1s\u001b[0m 162ms/step - accuracy: 0.9695 - loss: 0.5429 - val_accuracy: 1.0000 - val_loss: 0.3763\n",
            "Epoch 19/50\n",
            "\u001b[1m3/3\u001b[0m \u001b[32m━━━━━━━━━━━━━━━━━━━━\u001b[0m\u001b[37m\u001b[0m \u001b[1m1s\u001b[0m 163ms/step - accuracy: 0.9656 - loss: 0.4734 - val_accuracy: 1.0000 - val_loss: 0.2977\n",
            "Epoch 20/50\n",
            "\u001b[1m3/3\u001b[0m \u001b[32m━━━━━━━━━━━━━━━━━━━━\u001b[0m\u001b[37m\u001b[0m \u001b[1m1s\u001b[0m 176ms/step - accuracy: 0.9598 - loss: 0.3783 - val_accuracy: 1.0000 - val_loss: 0.2322\n",
            "Epoch 21/50\n",
            "\u001b[1m3/3\u001b[0m \u001b[32m━━━━━━━━━━━━━━━━━━━━\u001b[0m\u001b[37m\u001b[0m \u001b[1m1s\u001b[0m 198ms/step - accuracy: 0.9539 - loss: 0.3769 - val_accuracy: 1.0000 - val_loss: 0.1783\n",
            "Epoch 22/50\n",
            "\u001b[1m3/3\u001b[0m \u001b[32m━━━━━━━━━━━━━━━━━━━━\u001b[0m\u001b[37m\u001b[0m \u001b[1m1s\u001b[0m 85ms/step - accuracy: 0.9676 - loss: 0.2970 - val_accuracy: 1.0000 - val_loss: 0.1360\n",
            "Epoch 23/50\n",
            "\u001b[1m3/3\u001b[0m \u001b[32m━━━━━━━━━━━━━━━━━━━━\u001b[0m\u001b[37m\u001b[0m \u001b[1m1s\u001b[0m 122ms/step - accuracy: 0.9617 - loss: 0.2576 - val_accuracy: 1.0000 - val_loss: 0.1032\n",
            "Epoch 24/50\n",
            "\u001b[1m3/3\u001b[0m \u001b[32m━━━━━━━━━━━━━━━━━━━━\u001b[0m\u001b[37m\u001b[0m \u001b[1m1s\u001b[0m 105ms/step - accuracy: 0.9578 - loss: 0.2365 - val_accuracy: 1.0000 - val_loss: 0.0787\n",
            "Epoch 25/50\n",
            "\u001b[1m3/3\u001b[0m \u001b[32m━━━━━━━━━━━━━━━━━━━━\u001b[0m\u001b[37m\u001b[0m \u001b[1m1s\u001b[0m 68ms/step - accuracy: 0.9695 - loss: 0.1837 - val_accuracy: 1.0000 - val_loss: 0.0603\n",
            "Epoch 26/50\n",
            "\u001b[1m3/3\u001b[0m \u001b[32m━━━━━━━━━━━━━━━━━━━━\u001b[0m\u001b[37m\u001b[0m \u001b[1m0s\u001b[0m 129ms/step - accuracy: 0.9617 - loss: 0.1808 - val_accuracy: 1.0000 - val_loss: 0.0469\n",
            "Epoch 27/50\n",
            "\u001b[1m3/3\u001b[0m \u001b[32m━━━━━━━━━━━━━━━━━━━━\u001b[0m\u001b[37m\u001b[0m \u001b[1m0s\u001b[0m 139ms/step - accuracy: 0.9598 - loss: 0.1737 - val_accuracy: 1.0000 - val_loss: 0.0371\n",
            "Epoch 28/50\n",
            "\u001b[1m3/3\u001b[0m \u001b[32m━━━━━━━━━━━━━━━━━━━━\u001b[0m\u001b[37m\u001b[0m \u001b[1m0s\u001b[0m 78ms/step - accuracy: 0.9539 - loss: 0.1721 - val_accuracy: 1.0000 - val_loss: 0.0300\n",
            "Epoch 29/50\n",
            "\u001b[1m3/3\u001b[0m \u001b[32m━━━━━━━━━━━━━━━━━━━━\u001b[0m\u001b[37m\u001b[0m \u001b[1m1s\u001b[0m 155ms/step - accuracy: 0.9578 - loss: 0.1522 - val_accuracy: 1.0000 - val_loss: 0.0249\n",
            "Epoch 30/50\n",
            "\u001b[1m3/3\u001b[0m \u001b[32m━━━━━━━━━━━━━━━━━━━━\u001b[0m\u001b[37m\u001b[0m \u001b[1m0s\u001b[0m 78ms/step - accuracy: 0.9656 - loss: 0.1262 - val_accuracy: 1.0000 - val_loss: 0.0210\n",
            "Epoch 31/50\n",
            "\u001b[1m3/3\u001b[0m \u001b[32m━━━━━━━━━━━━━━━━━━━━\u001b[0m\u001b[37m\u001b[0m \u001b[1m1s\u001b[0m 130ms/step - accuracy: 0.9695 - loss: 0.1074 - val_accuracy: 1.0000 - val_loss: 0.0180\n",
            "Epoch 32/50\n",
            "\u001b[1m3/3\u001b[0m \u001b[32m━━━━━━━━━━━━━━━━━━━━\u001b[0m\u001b[37m\u001b[0m \u001b[1m0s\u001b[0m 34ms/step - accuracy: 0.9559 - loss: 0.1458 - val_accuracy: 1.0000 - val_loss: 0.0157\n",
            "Epoch 33/50\n",
            "\u001b[1m3/3\u001b[0m \u001b[32m━━━━━━━━━━━━━━━━━━━━\u001b[0m\u001b[37m\u001b[0m \u001b[1m0s\u001b[0m 60ms/step - accuracy: 0.9617 - loss: 0.1177 - val_accuracy: 1.0000 - val_loss: 0.0139\n",
            "Epoch 34/50\n",
            "\u001b[1m3/3\u001b[0m \u001b[32m━━━━━━━━━━━━━━━━━━━━\u001b[0m\u001b[37m\u001b[0m \u001b[1m0s\u001b[0m 68ms/step - accuracy: 0.9598 - loss: 0.1201 - val_accuracy: 1.0000 - val_loss: 0.0124\n",
            "Epoch 35/50\n",
            "\u001b[1m3/3\u001b[0m \u001b[32m━━━━━━━━━━━━━━━━━━━━\u001b[0m\u001b[37m\u001b[0m \u001b[1m0s\u001b[0m 61ms/step - accuracy: 0.9695 - loss: 0.0883 - val_accuracy: 1.0000 - val_loss: 0.0112\n",
            "Epoch 36/50\n",
            "\u001b[1m3/3\u001b[0m \u001b[32m━━━━━━━━━━━━━━━━━━━━\u001b[0m\u001b[37m\u001b[0m \u001b[1m0s\u001b[0m 45ms/step - accuracy: 0.9578 - loss: 0.1115 - val_accuracy: 1.0000 - val_loss: 0.0101\n",
            "Epoch 37/50\n",
            "\u001b[1m3/3\u001b[0m \u001b[32m━━━━━━━━━━━━━━━━━━━━\u001b[0m\u001b[37m\u001b[0m \u001b[1m0s\u001b[0m 37ms/step - accuracy: 0.9637 - loss: 0.1100 - val_accuracy: 1.0000 - val_loss: 0.0093\n",
            "Epoch 38/50\n",
            "\u001b[1m3/3\u001b[0m \u001b[32m━━━━━━━━━━━━━━━━━━━━\u001b[0m\u001b[37m\u001b[0m \u001b[1m0s\u001b[0m 41ms/step - accuracy: 0.9695 - loss: 0.0924 - val_accuracy: 1.0000 - val_loss: 0.0085\n",
            "Epoch 39/50\n",
            "\u001b[1m3/3\u001b[0m \u001b[32m━━━━━━━━━━━━━━━━━━━━\u001b[0m\u001b[37m\u001b[0m \u001b[1m0s\u001b[0m 39ms/step - accuracy: 0.9676 - loss: 0.0897 - val_accuracy: 1.0000 - val_loss: 0.0079\n",
            "Epoch 40/50\n",
            "\u001b[1m3/3\u001b[0m \u001b[32m━━━━━━━━━━━━━━━━━━━━\u001b[0m\u001b[37m\u001b[0m \u001b[1m0s\u001b[0m 50ms/step - accuracy: 0.9617 - loss: 0.0969 - val_accuracy: 1.0000 - val_loss: 0.0073\n",
            "Epoch 41/50\n",
            "\u001b[1m3/3\u001b[0m \u001b[32m━━━━━━━━━━━━━━━━━━━━\u001b[0m\u001b[37m\u001b[0m \u001b[1m0s\u001b[0m 43ms/step - accuracy: 0.9559 - loss: 0.1095 - val_accuracy: 1.0000 - val_loss: 0.0069\n",
            "Epoch 42/50\n",
            "\u001b[1m3/3\u001b[0m \u001b[32m━━━━━━━━━━━━━━━━━━━━\u001b[0m\u001b[37m\u001b[0m \u001b[1m0s\u001b[0m 58ms/step - accuracy: 0.9637 - loss: 0.0902 - val_accuracy: 1.0000 - val_loss: 0.0065\n",
            "Epoch 43/50\n",
            "\u001b[1m3/3\u001b[0m \u001b[32m━━━━━━━━━━━━━━━━━━━━\u001b[0m\u001b[37m\u001b[0m \u001b[1m0s\u001b[0m 47ms/step - accuracy: 0.9707 - loss: 0.0890 - val_accuracy: 1.0000 - val_loss: 0.0061\n",
            "Epoch 44/50\n",
            "\u001b[1m3/3\u001b[0m \u001b[32m━━━━━━━━━━━━━━━━━━━━\u001b[0m\u001b[37m\u001b[0m \u001b[1m0s\u001b[0m 36ms/step - accuracy: 0.9746 - loss: 0.0703 - val_accuracy: 1.0000 - val_loss: 0.0058\n",
            "Epoch 45/50\n",
            "\u001b[1m3/3\u001b[0m \u001b[32m━━━━━━━━━━━━━━━━━━━━\u001b[0m\u001b[37m\u001b[0m \u001b[1m0s\u001b[0m 42ms/step - accuracy: 0.9590 - loss: 0.1055 - val_accuracy: 1.0000 - val_loss: 0.0055\n",
            "Epoch 46/50\n",
            "\u001b[1m3/3\u001b[0m \u001b[32m━━━━━━━━━━━━━━━━━━━━\u001b[0m\u001b[37m\u001b[0m \u001b[1m0s\u001b[0m 40ms/step - accuracy: 0.9629 - loss: 0.1013 - val_accuracy: 1.0000 - val_loss: 0.0052\n",
            "Epoch 47/50\n",
            "\u001b[1m3/3\u001b[0m \u001b[32m━━━━━━━━━━━━━━━━━━━━\u001b[0m\u001b[37m\u001b[0m \u001b[1m0s\u001b[0m 56ms/step - accuracy: 0.9590 - loss: 0.1038 - val_accuracy: 1.0000 - val_loss: 0.0049\n",
            "Epoch 48/50\n",
            "\u001b[1m3/3\u001b[0m \u001b[32m━━━━━━━━━━━━━━━━━━━━\u001b[0m\u001b[37m\u001b[0m \u001b[1m0s\u001b[0m 62ms/step - accuracy: 0.9598 - loss: 0.0879 - val_accuracy: 1.0000 - val_loss: 0.0046\n",
            "Epoch 49/50\n",
            "\u001b[1m3/3\u001b[0m \u001b[32m━━━━━━━━━━━━━━━━━━━━\u001b[0m\u001b[37m\u001b[0m \u001b[1m0s\u001b[0m 64ms/step - accuracy: 0.9680 - loss: 0.1018 - val_accuracy: 1.0000 - val_loss: 0.0044\n",
            "Epoch 50/50\n",
            "\u001b[1m3/3\u001b[0m \u001b[32m━━━━━━━━━━━━━━━━━━━━\u001b[0m\u001b[37m\u001b[0m \u001b[1m0s\u001b[0m 80ms/step - accuracy: 0.9770 - loss: 0.0803 - val_accuracy: 1.0000 - val_loss: 0.0041\n"
          ]
        },
        {
          "output_type": "execute_result",
          "data": {
            "text/plain": [
              "<keras.src.callbacks.history.History at 0x7c91cdec7c10>"
            ]
          },
          "metadata": {},
          "execution_count": 10
        }
      ]
    },
    {
      "cell_type": "code",
      "source": [
        "# Dataset percakapan umum\n",
        "df_conversation = pd.read_csv('general_conversation.csv')"
      ],
      "metadata": {
        "id": "lfvgRtijzBtU"
      },
      "execution_count": 11,
      "outputs": []
    },
    {
      "cell_type": "code",
      "source": [
        "# Preprocessing dataset percakapan umum\n",
        "df_conversation['Cleaned_Input'] = df_conversation['Input'].apply(clean_text).apply(remove_stopwords)"
      ],
      "metadata": {
        "id": "oTDQUYttzIDp"
      },
      "execution_count": 24,
      "outputs": []
    },
    {
      "cell_type": "code",
      "source": [
        "# Membuat mapping dictionary untuk percakapan umum\n",
        "conversation_dict = dict(zip(df_conversation['Cleaned_Input'], df_conversation['Output']))"
      ],
      "metadata": {
        "id": "qUr3_xuhzLyN"
      },
      "execution_count": 34,
      "outputs": []
    },
    {
      "cell_type": "code",
      "source": [
        "def get_general_response(user_input):\n",
        "    processed_input = clean_text(user_input)\n",
        "    processed_input = remove_stopwords(processed_input)\n",
        "    response = conversation_dict.get(processed_input, None)\n",
        "    return response"
      ],
      "metadata": {
        "id": "kLTfpz93zO0C"
      },
      "execution_count": 35,
      "outputs": []
    },
    {
      "cell_type": "code",
      "source": [
        "# Fungsi deteksi hewan\n",
        "def detect_animal_type(user_input):\n",
        "    animal_types = ['kucing', 'anjing']\n",
        "    for animal in animal_types:\n",
        "        if animal in user_input.lower():\n",
        "            return animal\n",
        "    return None"
      ],
      "metadata": {
        "id": "TDiiqvTJzRzc"
      },
      "execution_count": 36,
      "outputs": []
    },
    {
      "cell_type": "code",
      "source": [
        "# Daftar gejala\n",
        "symptoms_keywords = ['muntah', 'demam', 'batuk', 'diare', 'kejang', 'lemas',\n",
        "                     'pilek', 'bersin', 'luka', 'lesu', 'gatal', 'tidak nafsu makan', 'dehidrasi']"
      ],
      "metadata": {
        "id": "9FxCSQUjzU3x"
      },
      "execution_count": 37,
      "outputs": []
    },
    {
      "cell_type": "code",
      "source": [
        "def is_symptom_input(user_input):\n",
        "    return any(keyword in user_input.lower() for keyword in symptoms_keywords)"
      ],
      "metadata": {
        "id": "VH4wllStzYCZ"
      },
      "execution_count": 38,
      "outputs": []
    },
    {
      "cell_type": "code",
      "source": [
        "def is_no_more_symptoms(user_input):\n",
        "    negations = ['tidak', 'nggak', 'enggak', 'gak', 'ga', 'udah', 'cukup', 'sudah', 'tidak ada']\n",
        "    return any(word in user_input.lower() for word in negations)"
      ],
      "metadata": {
        "id": "EHKiIwjQza1H"
      },
      "execution_count": 39,
      "outputs": []
    },
    {
      "cell_type": "code",
      "source": [
        "# set Variabel global\n",
        "current_animal = None\n",
        "symptoms_list = []\n",
        "conversation_state = 'initial'"
      ],
      "metadata": {
        "id": "9mViLp8EzelD"
      },
      "execution_count": 40,
      "outputs": []
    },
    {
      "cell_type": "code",
      "source": [
        "def chatbot_response(user_input):\n",
        "    global current_animal, symptoms_list, conversation_state\n",
        "\n",
        "    # Preprocessing input pengguna\n",
        "    processed_input = clean_text(user_input)\n",
        "    processed_input = remove_stopwords(processed_input)\n",
        "\n",
        "    if conversation_state == 'asking_symptoms':\n",
        "        if is_no_more_symptoms(user_input):\n",
        "            if symptoms_list:\n",
        "                combined_symptoms = ' '.join(symptoms_list)\n",
        "                vectorized_symptoms = vectorizer_disease.transform([combined_symptoms])\n",
        "                prediction = model_disease.predict(vectorized_symptoms)\n",
        "                predicted_label = prediction.argmax(axis=-1)[0]\n",
        "                disease_name = le_disease.inverse_transform([predicted_label])[0]\n",
        "                df_animal = df_disease[df_disease['Nama Hewan'].str.lower() == current_animal]\n",
        "                first_aid = df_animal[df_animal['Nama Penyakit'] == disease_name]['Penanganan Pertama'].iloc[0]\n",
        "                response = f\"Berdasarkan gejala yang Anda sebutkan, sepertinya {current_animal} Anda mengalami {disease_name}. {first_aid}\"\n",
        "                # Reset percakapan\n",
        "                conversation_state = 'initial'\n",
        "                current_animal = None\n",
        "                symptoms_list = []\n",
        "                return response\n",
        "            else:\n",
        "                conversation_state = 'initial'\n",
        "                current_animal = None\n",
        "                symptoms_list = []\n",
        "                return \"Anda tidak menyebutkan gejala apapun. Ada yang bisa saya bantu?\"\n",
        "        else:\n",
        "            symptoms_list.append(user_input)\n",
        "            return \"Apakah ada gejala lain yang dialami hewan Anda? Jika tidak ada, silakan katakan 'tidak ada'.\"\n",
        "    elif conversation_state == 'asking_animal':\n",
        "        animal = detect_animal_type(user_input)\n",
        "        if animal:\n",
        "            current_animal = animal\n",
        "            conversation_state = 'asking_symptoms'\n",
        "            return f\"Apa gejala yang dialami {current_animal} Anda?\"\n",
        "        else:\n",
        "            return \"Maaf, saya hanya bisa memberikan saran untuk kucing atau anjing. Hewan apa yang Anda miliki?\"\n",
        "    else:\n",
        "        # Cek apakah input adalah percakapan umum\n",
        "        response = get_general_response(user_input)\n",
        "        if response:\n",
        "            return response\n",
        "        # Cek apakah input terkait dengan hewan sakit\n",
        "        elif 'sakit' in user_input.lower() or is_symptom_input(user_input):\n",
        "            animal = detect_animal_type(user_input)\n",
        "            if animal:\n",
        "                current_animal = animal\n",
        "                conversation_state = 'asking_symptoms'\n",
        "                return f\"Apa gejala yang dialami {current_animal} Anda?\"\n",
        "            else:\n",
        "                conversation_state = 'asking_animal'\n",
        "                return \"Hewan apa yang Anda miliki? (kucing/anjing)\"\n",
        "        else:\n",
        "            return \"Maaf, saya tidak mengerti. Bisa dijelaskan lebih lanjut?\""
      ],
      "metadata": {
        "id": "76XF3fY5zjRv"
      },
      "execution_count": 41,
      "outputs": []
    },
    {
      "cell_type": "code",
      "source": [
        "# Loop interaksi dengan pengguna\n",
        "print(\"Chatbot: Halo, ada yang bisa saya bantu?\")\n",
        "while True:\n",
        "    user_input = input(\"Anda: \")\n",
        "    if user_input.lower() in ['exit', 'quit', 'keluar', 'bye', 'sampai jumpa']:\n",
        "        print(\"Chatbot: Terima kasih, semoga membantu!\")\n",
        "        break\n",
        "    response = chatbot_response(user_input)\n",
        "    print(\"Chatbot:\", response)"
      ],
      "metadata": {
        "colab": {
          "base_uri": "https://localhost:8080/"
        },
        "id": "yw5v9Muuzq9T",
        "outputId": "452b359e-ac6b-49e5-8320-b432424b8440"
      },
      "execution_count": null,
      "outputs": [
        {
          "output_type": "stream",
          "name": "stdout",
          "text": [
            "Chatbot: Halo, ada yang bisa saya bantu?\n",
            "Anda: halo\n",
            "Chatbot: Halo! Ada yang bisa saya bantu?\n",
            "Anda: siapa kamu\n",
            "Chatbot: Saya adalah Alexa, chatbot yang siap membantu Anda.\n",
            "Anda: kucing saya sakit\n",
            "Chatbot: Apa gejala yang dialami kucing Anda?\n",
            "Anda: diare\n",
            "Chatbot: Apakah ada gejala lain yang dialami hewan Anda? Jika tidak ada, silakan katakan 'tidak ada'.\n",
            "Anda: demam\n",
            "Chatbot: Apakah ada gejala lain yang dialami hewan Anda? Jika tidak ada, silakan katakan 'tidak ada'.\n",
            "Anda: cukup\n",
            "\u001b[1m1/1\u001b[0m \u001b[32m━━━━━━━━━━━━━━━━━━━━\u001b[0m\u001b[37m\u001b[0m \u001b[1m0s\u001b[0m 47ms/step\n",
            "Chatbot: Berdasarkan gejala yang Anda sebutkan, sepertinya kucing Anda mengalami Feline Leukemia Virus. Isolasi kucing yang terinfeksi, berikan perawatan suportif, konsultasi dokter hewan. Pastikan untuk konsultasi dengan dokter hewan.\n",
            "Anda: anjing saya sakit\n",
            "Chatbot: Apa gejala yang dialami anjing Anda?\n",
            "Anda: muntah\n",
            "Chatbot: Apakah ada gejala lain yang dialami hewan Anda? Jika tidak ada, silakan katakan 'tidak ada'.\n",
            "Anda: dehidrasi dan tidak nafsu makan\n",
            "\u001b[1m1/1\u001b[0m \u001b[32m━━━━━━━━━━━━━━━━━━━━\u001b[0m\u001b[37m\u001b[0m \u001b[1m0s\u001b[0m 45ms/step\n",
            "Chatbot: Berdasarkan gejala yang Anda sebutkan, sepertinya anjing Anda mengalami Leptospirosis. Pastikan anjing tidak dehidrasi dengan memberi air bersih, bawa ke tempat yang teduh, hindari aktivitas fisik, dan segera konsultasi dokter. Pastikan untuk konsultasi dengan dokter hewan.\n"
          ]
        }
      ]
    },
    {
      "cell_type": "code",
      "source": [],
      "metadata": {
        "id": "KfSDmN0FzuBg"
      },
      "execution_count": null,
      "outputs": []
    }
  ]
}