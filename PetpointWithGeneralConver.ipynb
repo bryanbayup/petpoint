{
  "nbformat": 4,
  "nbformat_minor": 0,
  "metadata": {
    "colab": {
      "provenance": [],
      "authorship_tag": "ABX9TyNPxbu9cjQQhvPNrTKdvnVz",
      "include_colab_link": true
    },
    "kernelspec": {
      "name": "python3",
      "display_name": "Python 3"
    },
    "language_info": {
      "name": "python"
    }
  },
  "cells": [
    {
      "cell_type": "markdown",
      "metadata": {
        "id": "view-in-github",
        "colab_type": "text"
      },
      "source": [
        "<a href=\"https://colab.research.google.com/github/bryanbayup/petpoint/blob/main/PetpointWithGeneralConver.ipynb\" target=\"_parent\"><img src=\"https://colab.research.google.com/assets/colab-badge.svg\" alt=\"Open In Colab\"/></a>"
      ]
    },
    {
      "cell_type": "code",
      "execution_count": 1,
      "metadata": {
        "colab": {
          "base_uri": "https://localhost:8080/"
        },
        "id": "hPVpzJLt48L1",
        "outputId": "cc2d3705-7f24-4ae8-c0e8-0af838d1942d"
      },
      "outputs": [
        {
          "output_type": "stream",
          "name": "stdout",
          "text": [
            "Requirement already satisfied: Sastrawi in /usr/local/lib/python3.10/dist-packages (1.0.1)\n"
          ]
        }
      ],
      "source": [
        "!pip install Sastrawi"
      ]
    },
    {
      "cell_type": "code",
      "source": [
        "import re\n",
        "import string\n",
        "import pandas as pd\n",
        "from Sastrawi.StopWordRemover.StopWordRemoverFactory import StopWordRemoverFactory\n",
        "from sklearn.preprocessing import LabelEncoder\n",
        "from sklearn.feature_extraction.text import TfidfVectorizer\n",
        "from sklearn.model_selection import train_test_split\n",
        "import tensorflow as tf\n",
        "from tensorflow.keras.models import Sequential\n",
        "from tensorflow.keras.layers import Dense, Dropout"
      ],
      "metadata": {
        "id": "EP3C-CxptBXX"
      },
      "execution_count": 2,
      "outputs": []
    },
    {
      "cell_type": "markdown",
      "source": [
        "Membaca Dataset dan Preprocessing Teks"
      ],
      "metadata": {
        "id": "ICtkMk-j6UWX"
      }
    },
    {
      "cell_type": "code",
      "source": [
        "# Membaca dataset penyakit\n",
        "df_disease = pd.read_csv('disease_classification.csv')"
      ],
      "metadata": {
        "id": "yWGofBS6yU9_"
      },
      "execution_count": 3,
      "outputs": []
    },
    {
      "cell_type": "code",
      "source": [
        "# Preprocessing dataset\n",
        "def clean_text(text):\n",
        "    text = text.lower()\n",
        "    text = re.sub(r'\\d+', '', text)\n",
        "    text = text.translate(str.maketrans('', '', string.punctuation))\n",
        "    text = text.strip()\n",
        "    return text"
      ],
      "metadata": {
        "id": "NjF1Y3WxygN8"
      },
      "execution_count": 4,
      "outputs": []
    },
    {
      "cell_type": "code",
      "source": [
        "def remove_stopwords(text):\n",
        "    factory = StopWordRemoverFactory()\n",
        "    stopword_remover = factory.create_stop_word_remover()\n",
        "    cleaned_text = stopword_remover.remove(text)\n",
        "    return cleaned_text"
      ],
      "metadata": {
        "id": "ji28TusCynM-"
      },
      "execution_count": 5,
      "outputs": []
    },
    {
      "cell_type": "code",
      "source": [
        "df_disease['Cleaned_Gejala'] = df_disease['Gejala'].apply(clean_text).apply(remove_stopwords)\n",
        "df_disease['Cleaned_Penanganan'] = df_disease['Penanganan Pertama'].apply(clean_text).apply(remove_stopwords)"
      ],
      "metadata": {
        "id": "zBviz8VqyvLa"
      },
      "execution_count": 6,
      "outputs": []
    },
    {
      "cell_type": "code",
      "source": [
        "# Mengubah nama penyakit menjadi label numerik\n",
        "le_disease = LabelEncoder()\n",
        "df_disease['Label_Penyakit'] = le_disease.fit_transform(df_disease['Nama Penyakit'])"
      ],
      "metadata": {
        "id": "0p6Ydzegyy2V"
      },
      "execution_count": 7,
      "outputs": []
    },
    {
      "cell_type": "code",
      "source": [
        "# Menggabungkan teks gejala untuk penyakit\n",
        "all_text_disease = df_disease['Cleaned_Gejala'].tolist()\n",
        "vectorizer_disease = TfidfVectorizer()\n",
        "X_disease = vectorizer_disease.fit_transform(all_text_disease)\n",
        "y_disease = df_disease['Label_Penyakit']"
      ],
      "metadata": {
        "id": "2wk8fSn_y3P_"
      },
      "execution_count": 8,
      "outputs": []
    },
    {
      "cell_type": "code",
      "source": [
        "# Membagi data untuk penyakit\n",
        "X_train_d, X_test_d, y_train_d, y_test_d = train_test_split(\n",
        "    X_disease, y_disease, test_size=0.2, random_state=42)"
      ],
      "metadata": {
        "id": "1qfc4Qnhy6pp"
      },
      "execution_count": 9,
      "outputs": []
    },
    {
      "cell_type": "code",
      "source": [
        "# Membangun model untuk penyakit\n",
        "model_disease = Sequential()\n",
        "model_disease.add(Dense(128, input_shape=(X_train_d.shape[1],), activation='relu'))\n",
        "model_disease.add(Dropout(0.5))\n",
        "model_disease.add(Dense(64, activation='relu'))\n",
        "model_disease.add(Dense(len(le_disease.classes_), activation='softmax'))\n",
        "model_disease.compile(optimizer='adam',\n",
        "                      loss='sparse_categorical_crossentropy',\n",
        "                      metrics=['accuracy'])\n",
        "model_disease.fit(X_train_d, y_train_d,\n",
        "                  epochs=50,\n",
        "                  batch_size=64,\n",
        "                  validation_data=(X_test_d, y_test_d))"
      ],
      "metadata": {
        "id": "5HezMCDWy-vH",
        "outputId": "e4d063b6-74e3-49db-f755-2692fe3dc349",
        "colab": {
          "base_uri": "https://localhost:8080/"
        }
      },
      "execution_count": 10,
      "outputs": [
        {
          "output_type": "stream",
          "name": "stderr",
          "text": [
            "/usr/local/lib/python3.10/dist-packages/keras/src/layers/core/dense.py:87: UserWarning: Do not pass an `input_shape`/`input_dim` argument to a layer. When using Sequential models, prefer using an `Input(shape)` object as the first layer in the model instead.\n",
            "  super().__init__(activity_regularizer=activity_regularizer, **kwargs)\n"
          ]
        },
        {
          "output_type": "stream",
          "name": "stdout",
          "text": [
            "Epoch 1/50\n",
            "\u001b[1m3/3\u001b[0m \u001b[32m━━━━━━━━━━━━━━━━━━━━\u001b[0m\u001b[37m\u001b[0m \u001b[1m3s\u001b[0m 371ms/step - accuracy: 0.2004 - loss: 2.2364 - val_accuracy: 0.5250 - val_loss: 2.1485\n",
            "Epoch 2/50\n",
            "\u001b[1m3/3\u001b[0m \u001b[32m━━━━━━━━━━━━━━━━━━━━\u001b[0m\u001b[37m\u001b[0m \u001b[1m0s\u001b[0m 87ms/step - accuracy: 0.5078 - loss: 2.1207 - val_accuracy: 0.7500 - val_loss: 2.0345\n",
            "Epoch 3/50\n",
            "\u001b[1m3/3\u001b[0m \u001b[32m━━━━━━━━━━━━━━━━━━━━\u001b[0m\u001b[37m\u001b[0m \u001b[1m0s\u001b[0m 102ms/step - accuracy: 0.7086 - loss: 2.0169 - val_accuracy: 1.0000 - val_loss: 1.9214\n",
            "Epoch 4/50\n",
            "\u001b[1m3/3\u001b[0m \u001b[32m━━━━━━━━━━━━━━━━━━━━\u001b[0m\u001b[37m\u001b[0m \u001b[1m0s\u001b[0m 113ms/step - accuracy: 0.8195 - loss: 1.9108 - val_accuracy: 1.0000 - val_loss: 1.8028\n",
            "Epoch 5/50\n",
            "\u001b[1m3/3\u001b[0m \u001b[32m━━━━━━━━━━━━━━━━━━━━\u001b[0m\u001b[37m\u001b[0m \u001b[1m1s\u001b[0m 125ms/step - accuracy: 0.8230 - loss: 1.8062 - val_accuracy: 1.0000 - val_loss: 1.6741\n",
            "Epoch 6/50\n",
            "\u001b[1m3/3\u001b[0m \u001b[32m━━━━━━━━━━━━━━━━━━━━\u001b[0m\u001b[37m\u001b[0m \u001b[1m0s\u001b[0m 87ms/step - accuracy: 0.8840 - loss: 1.6803 - val_accuracy: 1.0000 - val_loss: 1.5349\n",
            "Epoch 7/50\n",
            "\u001b[1m3/3\u001b[0m \u001b[32m━━━━━━━━━━━━━━━━━━━━\u001b[0m\u001b[37m\u001b[0m \u001b[1m1s\u001b[0m 139ms/step - accuracy: 0.8941 - loss: 1.5699 - val_accuracy: 1.0000 - val_loss: 1.3887\n",
            "Epoch 8/50\n",
            "\u001b[1m3/3\u001b[0m \u001b[32m━━━━━━━━━━━━━━━━━━━━\u001b[0m\u001b[37m\u001b[0m \u001b[1m1s\u001b[0m 101ms/step - accuracy: 0.9445 - loss: 1.4154 - val_accuracy: 1.0000 - val_loss: 1.2366\n",
            "Epoch 9/50\n",
            "\u001b[1m3/3\u001b[0m \u001b[32m━━━━━━━━━━━━━━━━━━━━\u001b[0m\u001b[37m\u001b[0m \u001b[1m0s\u001b[0m 107ms/step - accuracy: 0.9414 - loss: 1.2585 - val_accuracy: 1.0000 - val_loss: 1.0795\n",
            "Epoch 10/50\n",
            "\u001b[1m3/3\u001b[0m \u001b[32m━━━━━━━━━━━━━━━━━━━━\u001b[0m\u001b[37m\u001b[0m \u001b[1m0s\u001b[0m 147ms/step - accuracy: 0.9496 - loss: 1.1294 - val_accuracy: 1.0000 - val_loss: 0.9225\n",
            "Epoch 11/50\n",
            "\u001b[1m3/3\u001b[0m \u001b[32m━━━━━━━━━━━━━━━━━━━━\u001b[0m\u001b[37m\u001b[0m \u001b[1m1s\u001b[0m 138ms/step - accuracy: 0.9555 - loss: 1.0006 - val_accuracy: 1.0000 - val_loss: 0.7703\n",
            "Epoch 12/50\n",
            "\u001b[1m3/3\u001b[0m \u001b[32m━━━━━━━━━━━━━━━━━━━━\u001b[0m\u001b[37m\u001b[0m \u001b[1m1s\u001b[0m 103ms/step - accuracy: 0.9664 - loss: 0.8151 - val_accuracy: 1.0000 - val_loss: 0.6281\n",
            "Epoch 13/50\n",
            "\u001b[1m3/3\u001b[0m \u001b[32m━━━━━━━━━━━━━━━━━━━━\u001b[0m\u001b[37m\u001b[0m \u001b[1m0s\u001b[0m 83ms/step - accuracy: 0.9664 - loss: 0.6831 - val_accuracy: 1.0000 - val_loss: 0.5011\n",
            "Epoch 14/50\n",
            "\u001b[1m3/3\u001b[0m \u001b[32m━━━━━━━━━━━━━━━━━━━━\u001b[0m\u001b[37m\u001b[0m \u001b[1m0s\u001b[0m 54ms/step - accuracy: 0.9617 - loss: 0.6253 - val_accuracy: 1.0000 - val_loss: 0.3918\n",
            "Epoch 15/50\n",
            "\u001b[1m3/3\u001b[0m \u001b[32m━━━━━━━━━━━━━━━━━━━━\u001b[0m\u001b[37m\u001b[0m \u001b[1m0s\u001b[0m 63ms/step - accuracy: 0.9598 - loss: 0.5123 - val_accuracy: 1.0000 - val_loss: 0.3015\n",
            "Epoch 16/50\n",
            "\u001b[1m3/3\u001b[0m \u001b[32m━━━━━━━━━━━━━━━━━━━━\u001b[0m\u001b[37m\u001b[0m \u001b[1m0s\u001b[0m 121ms/step - accuracy: 0.9617 - loss: 0.4517 - val_accuracy: 1.0000 - val_loss: 0.2296\n",
            "Epoch 17/50\n",
            "\u001b[1m3/3\u001b[0m \u001b[32m━━━━━━━━━━━━━━━━━━━━\u001b[0m\u001b[37m\u001b[0m \u001b[1m0s\u001b[0m 70ms/step - accuracy: 0.9578 - loss: 0.3966 - val_accuracy: 1.0000 - val_loss: 0.1728\n",
            "Epoch 18/50\n",
            "\u001b[1m3/3\u001b[0m \u001b[32m━━━━━━━━━━━━━━━━━━━━\u001b[0m\u001b[37m\u001b[0m \u001b[1m1s\u001b[0m 70ms/step - accuracy: 0.9559 - loss: 0.3398 - val_accuracy: 1.0000 - val_loss: 0.1302\n",
            "Epoch 19/50\n",
            "\u001b[1m3/3\u001b[0m \u001b[32m━━━━━━━━━━━━━━━━━━━━\u001b[0m\u001b[37m\u001b[0m \u001b[1m0s\u001b[0m 64ms/step - accuracy: 0.9500 - loss: 0.2958 - val_accuracy: 1.0000 - val_loss: 0.0988\n",
            "Epoch 20/50\n",
            "\u001b[1m3/3\u001b[0m \u001b[32m━━━━━━━━━━━━━━━━━━━━\u001b[0m\u001b[37m\u001b[0m \u001b[1m0s\u001b[0m 65ms/step - accuracy: 0.9656 - loss: 0.2227 - val_accuracy: 1.0000 - val_loss: 0.0763\n",
            "Epoch 21/50\n",
            "\u001b[1m3/3\u001b[0m \u001b[32m━━━━━━━━━━━━━━━━━━━━\u001b[0m\u001b[37m\u001b[0m \u001b[1m0s\u001b[0m 64ms/step - accuracy: 0.9598 - loss: 0.2126 - val_accuracy: 1.0000 - val_loss: 0.0600\n",
            "Epoch 22/50\n",
            "\u001b[1m3/3\u001b[0m \u001b[32m━━━━━━━━━━━━━━━━━━━━\u001b[0m\u001b[37m\u001b[0m \u001b[1m1s\u001b[0m 79ms/step - accuracy: 0.9559 - loss: 0.2168 - val_accuracy: 1.0000 - val_loss: 0.0479\n",
            "Epoch 23/50\n",
            "\u001b[1m3/3\u001b[0m \u001b[32m━━━━━━━━━━━━━━━━━━━━\u001b[0m\u001b[37m\u001b[0m \u001b[1m0s\u001b[0m 120ms/step - accuracy: 0.9695 - loss: 0.1647 - val_accuracy: 1.0000 - val_loss: 0.0387\n",
            "Epoch 24/50\n",
            "\u001b[1m3/3\u001b[0m \u001b[32m━━━━━━━━━━━━━━━━━━━━\u001b[0m\u001b[37m\u001b[0m \u001b[1m0s\u001b[0m 58ms/step - accuracy: 0.9656 - loss: 0.1598 - val_accuracy: 1.0000 - val_loss: 0.0320\n",
            "Epoch 25/50\n",
            "\u001b[1m3/3\u001b[0m \u001b[32m━━━━━━━━━━━━━━━━━━━━\u001b[0m\u001b[37m\u001b[0m \u001b[1m0s\u001b[0m 62ms/step - accuracy: 0.9656 - loss: 0.1502 - val_accuracy: 1.0000 - val_loss: 0.0270\n",
            "Epoch 26/50\n",
            "\u001b[1m3/3\u001b[0m \u001b[32m━━━━━━━━━━━━━━━━━━━━\u001b[0m\u001b[37m\u001b[0m \u001b[1m0s\u001b[0m 124ms/step - accuracy: 0.9637 - loss: 0.1546 - val_accuracy: 1.0000 - val_loss: 0.0232\n",
            "Epoch 27/50\n",
            "\u001b[1m3/3\u001b[0m \u001b[32m━━━━━━━━━━━━━━━━━━━━\u001b[0m\u001b[37m\u001b[0m \u001b[1m0s\u001b[0m 135ms/step - accuracy: 0.9617 - loss: 0.1561 - val_accuracy: 1.0000 - val_loss: 0.0202\n",
            "Epoch 28/50\n",
            "\u001b[1m3/3\u001b[0m \u001b[32m━━━━━━━━━━━━━━━━━━━━\u001b[0m\u001b[37m\u001b[0m \u001b[1m0s\u001b[0m 112ms/step - accuracy: 0.9695 - loss: 0.1265 - val_accuracy: 1.0000 - val_loss: 0.0179\n",
            "Epoch 29/50\n",
            "\u001b[1m3/3\u001b[0m \u001b[32m━━━━━━━━━━━━━━━━━━━━\u001b[0m\u001b[37m\u001b[0m \u001b[1m1s\u001b[0m 117ms/step - accuracy: 0.9500 - loss: 0.1707 - val_accuracy: 1.0000 - val_loss: 0.0160\n",
            "Epoch 30/50\n",
            "\u001b[1m3/3\u001b[0m \u001b[32m━━━━━━━━━━━━━━━━━━━━\u001b[0m\u001b[37m\u001b[0m \u001b[1m0s\u001b[0m 113ms/step - accuracy: 0.9598 - loss: 0.1309 - val_accuracy: 1.0000 - val_loss: 0.0145\n",
            "Epoch 31/50\n",
            "\u001b[1m3/3\u001b[0m \u001b[32m━━━━━━━━━━━━━━━━━━━━\u001b[0m\u001b[37m\u001b[0m \u001b[1m0s\u001b[0m 100ms/step - accuracy: 0.9617 - loss: 0.1193 - val_accuracy: 1.0000 - val_loss: 0.0132\n",
            "Epoch 32/50\n",
            "\u001b[1m3/3\u001b[0m \u001b[32m━━━━━━━━━━━━━━━━━━━━\u001b[0m\u001b[37m\u001b[0m \u001b[1m0s\u001b[0m 118ms/step - accuracy: 0.9676 - loss: 0.1074 - val_accuracy: 1.0000 - val_loss: 0.0121\n",
            "Epoch 33/50\n",
            "\u001b[1m3/3\u001b[0m \u001b[32m━━━━━━━━━━━━━━━━━━━━\u001b[0m\u001b[37m\u001b[0m \u001b[1m0s\u001b[0m 62ms/step - accuracy: 0.9539 - loss: 0.1351 - val_accuracy: 1.0000 - val_loss: 0.0112\n",
            "Epoch 34/50\n",
            "\u001b[1m3/3\u001b[0m \u001b[32m━━━━━━━━━━━━━━━━━━━━\u001b[0m\u001b[37m\u001b[0m \u001b[1m0s\u001b[0m 67ms/step - accuracy: 0.9598 - loss: 0.1177 - val_accuracy: 1.0000 - val_loss: 0.0103\n",
            "Epoch 35/50\n",
            "\u001b[1m3/3\u001b[0m \u001b[32m━━━━━━━━━━━━━━━━━━━━\u001b[0m\u001b[37m\u001b[0m \u001b[1m0s\u001b[0m 52ms/step - accuracy: 0.9617 - loss: 0.1132 - val_accuracy: 1.0000 - val_loss: 0.0096\n",
            "Epoch 36/50\n",
            "\u001b[1m3/3\u001b[0m \u001b[32m━━━━━━━━━━━━━━━━━━━━\u001b[0m\u001b[37m\u001b[0m \u001b[1m0s\u001b[0m 62ms/step - accuracy: 0.9637 - loss: 0.1072 - val_accuracy: 1.0000 - val_loss: 0.0090\n",
            "Epoch 37/50\n",
            "\u001b[1m3/3\u001b[0m \u001b[32m━━━━━━━━━━━━━━━━━━━━\u001b[0m\u001b[37m\u001b[0m \u001b[1m0s\u001b[0m 130ms/step - accuracy: 0.9617 - loss: 0.1127 - val_accuracy: 1.0000 - val_loss: 0.0084\n",
            "Epoch 38/50\n",
            "\u001b[1m3/3\u001b[0m \u001b[32m━━━━━━━━━━━━━━━━━━━━\u001b[0m\u001b[37m\u001b[0m \u001b[1m0s\u001b[0m 30ms/step - accuracy: 0.9734 - loss: 0.0796 - val_accuracy: 1.0000 - val_loss: 0.0078\n",
            "Epoch 39/50\n",
            "\u001b[1m3/3\u001b[0m \u001b[32m━━━━━━━━━━━━━━━━━━━━\u001b[0m\u001b[37m\u001b[0m \u001b[1m0s\u001b[0m 34ms/step - accuracy: 0.9648 - loss: 0.0928 - val_accuracy: 1.0000 - val_loss: 0.0074\n",
            "Epoch 40/50\n",
            "\u001b[1m3/3\u001b[0m \u001b[32m━━━━━━━━━━━━━━━━━━━━\u001b[0m\u001b[37m\u001b[0m \u001b[1m0s\u001b[0m 33ms/step - accuracy: 0.9598 - loss: 0.1066 - val_accuracy: 1.0000 - val_loss: 0.0070\n",
            "Epoch 41/50\n",
            "\u001b[1m3/3\u001b[0m \u001b[32m━━━━━━━━━━━━━━━━━━━━\u001b[0m\u001b[37m\u001b[0m \u001b[1m0s\u001b[0m 37ms/step - accuracy: 0.9738 - loss: 0.1076 - val_accuracy: 1.0000 - val_loss: 0.0066\n",
            "Epoch 42/50\n",
            "\u001b[1m3/3\u001b[0m \u001b[32m━━━━━━━━━━━━━━━━━━━━\u001b[0m\u001b[37m\u001b[0m \u001b[1m0s\u001b[0m 58ms/step - accuracy: 0.9715 - loss: 0.0809 - val_accuracy: 1.0000 - val_loss: 0.0063\n",
            "Epoch 43/50\n",
            "\u001b[1m3/3\u001b[0m \u001b[32m━━━━━━━━━━━━━━━━━━━━\u001b[0m\u001b[37m\u001b[0m \u001b[1m0s\u001b[0m 44ms/step - accuracy: 0.9539 - loss: 0.1226 - val_accuracy: 1.0000 - val_loss: 0.0059\n",
            "Epoch 44/50\n",
            "\u001b[1m3/3\u001b[0m \u001b[32m━━━━━━━━━━━━━━━━━━━━\u001b[0m\u001b[37m\u001b[0m \u001b[1m0s\u001b[0m 46ms/step - accuracy: 0.9797 - loss: 0.0792 - val_accuracy: 1.0000 - val_loss: 0.0056\n",
            "Epoch 45/50\n",
            "\u001b[1m3/3\u001b[0m \u001b[32m━━━━━━━━━━━━━━━━━━━━\u001b[0m\u001b[37m\u001b[0m \u001b[1m0s\u001b[0m 43ms/step - accuracy: 0.9629 - loss: 0.0957 - val_accuracy: 1.0000 - val_loss: 0.0053\n",
            "Epoch 46/50\n",
            "\u001b[1m3/3\u001b[0m \u001b[32m━━━━━━━━━━━━━━━━━━━━\u001b[0m\u001b[37m\u001b[0m \u001b[1m0s\u001b[0m 66ms/step - accuracy: 0.9805 - loss: 0.0667 - val_accuracy: 1.0000 - val_loss: 0.0050\n",
            "Epoch 47/50\n",
            "\u001b[1m3/3\u001b[0m \u001b[32m━━━━━━━━━━━━━━━━━━━━\u001b[0m\u001b[37m\u001b[0m \u001b[1m0s\u001b[0m 56ms/step - accuracy: 0.9836 - loss: 0.0698 - val_accuracy: 1.0000 - val_loss: 0.0048\n",
            "Epoch 48/50\n",
            "\u001b[1m3/3\u001b[0m \u001b[32m━━━━━━━━━━━━━━━━━━━━\u001b[0m\u001b[37m\u001b[0m \u001b[1m0s\u001b[0m 52ms/step - accuracy: 0.9629 - loss: 0.0962 - val_accuracy: 1.0000 - val_loss: 0.0045\n",
            "Epoch 49/50\n",
            "\u001b[1m3/3\u001b[0m \u001b[32m━━━━━━━━━━━━━━━━━━━━\u001b[0m\u001b[37m\u001b[0m \u001b[1m0s\u001b[0m 55ms/step - accuracy: 0.9719 - loss: 0.0869 - val_accuracy: 1.0000 - val_loss: 0.0043\n",
            "Epoch 50/50\n",
            "\u001b[1m3/3\u001b[0m \u001b[32m━━━━━━━━━━━━━━━━━━━━\u001b[0m\u001b[37m\u001b[0m \u001b[1m0s\u001b[0m 57ms/step - accuracy: 0.9859 - loss: 0.0757 - val_accuracy: 1.0000 - val_loss: 0.0041\n"
          ]
        },
        {
          "output_type": "execute_result",
          "data": {
            "text/plain": [
              "<keras.src.callbacks.history.History at 0x7a01548ac6d0>"
            ]
          },
          "metadata": {},
          "execution_count": 10
        }
      ]
    },
    {
      "cell_type": "code",
      "source": [
        "# Dataset percakapan umum\n",
        "df_conversation = pd.read_csv('general_conversation.csv')"
      ],
      "metadata": {
        "id": "lfvgRtijzBtU"
      },
      "execution_count": 11,
      "outputs": []
    },
    {
      "cell_type": "code",
      "source": [
        "# Preprocessing dataset percakapan umum\n",
        "df_conversation['Cleaned_Input'] = df_conversation['Input'].apply(clean_text).apply(remove_stopwords)"
      ],
      "metadata": {
        "id": "oTDQUYttzIDp"
      },
      "execution_count": 12,
      "outputs": []
    },
    {
      "cell_type": "code",
      "source": [
        "# Membuat mapping dictionary untuk percakapan umum\n",
        "conversation_dict = dict(zip(df_conversation['Cleaned_Input'], df_conversation['Output']))"
      ],
      "metadata": {
        "id": "qUr3_xuhzLyN"
      },
      "execution_count": 13,
      "outputs": []
    },
    {
      "cell_type": "code",
      "source": [
        "def get_general_response(user_input):\n",
        "    processed_input = clean_text(user_input)\n",
        "    processed_input = remove_stopwords(processed_input)\n",
        "    response = conversation_dict.get(processed_input, None)\n",
        "    return response"
      ],
      "metadata": {
        "id": "kLTfpz93zO0C"
      },
      "execution_count": 14,
      "outputs": []
    },
    {
      "cell_type": "code",
      "source": [
        "# Fungsi deteksi hewan\n",
        "def detect_animal_type(user_input):\n",
        "    animal_types = ['kucing', 'anjing']\n",
        "    for animal in animal_types:\n",
        "        if animal in user_input.lower():\n",
        "            return animal\n",
        "    return None"
      ],
      "metadata": {
        "id": "TDiiqvTJzRzc"
      },
      "execution_count": 15,
      "outputs": []
    },
    {
      "cell_type": "code",
      "source": [
        "# Daftar gejala\n",
        "symptoms_keywords = ['muntah', 'demam', 'batuk', 'diare', 'kejang', 'lemas',\n",
        "                     'pilek', 'bersin', 'luka', 'lesu', 'gatal', 'tidak nafsu makan', 'dehidrasi']"
      ],
      "metadata": {
        "id": "9FxCSQUjzU3x"
      },
      "execution_count": 16,
      "outputs": []
    },
    {
      "cell_type": "code",
      "source": [
        "def is_symptom_input(user_input):\n",
        "    return any(keyword in user_input.lower() for keyword in symptoms_keywords)"
      ],
      "metadata": {
        "id": "VH4wllStzYCZ"
      },
      "execution_count": 17,
      "outputs": []
    },
    {
      "cell_type": "code",
      "source": [
        "def is_no_more_symptoms(user_input):\n",
        "    negations = ['tidak', 'nggak', 'enggak', 'gak', 'ga', 'udah', 'cukup', 'sudah', 'tidak ada']\n",
        "    return any(word in user_input.lower() for word in negations)"
      ],
      "metadata": {
        "id": "EHKiIwjQza1H"
      },
      "execution_count": 18,
      "outputs": []
    },
    {
      "cell_type": "code",
      "source": [
        "# Variabel global status percakapan\n",
        "current_animal = None\n",
        "symptoms_list = []\n",
        "conversation_state = 'initial'"
      ],
      "metadata": {
        "id": "9mViLp8EzelD"
      },
      "execution_count": 19,
      "outputs": []
    },
    {
      "cell_type": "code",
      "source": [
        "def chatbot_response(user_input):\n",
        "    global current_animal, symptoms_list, conversation_state\n",
        "\n",
        "    # Preprocessing input pengguna\n",
        "    processed_input = clean_text(user_input)\n",
        "    processed_input = remove_stopwords(processed_input)\n",
        "\n",
        "    if conversation_state == 'asking_symptoms':\n",
        "        if is_no_more_symptoms(user_input):\n",
        "            if symptoms_list:\n",
        "                combined_symptoms = ' '.join(symptoms_list)\n",
        "                vectorized_symptoms = vectorizer_disease.transform([combined_symptoms])\n",
        "                prediction = model_disease.predict(vectorized_symptoms)\n",
        "                predicted_label = prediction.argmax(axis=-1)[0]\n",
        "                disease_name = le_disease.inverse_transform([predicted_label])[0]\n",
        "                df_animal = df_disease[df_disease['Nama Hewan'].str.lower() == current_animal]\n",
        "                first_aid = df_animal[df_animal['Nama Penyakit'] == disease_name]['Penanganan Pertama'].iloc[0]\n",
        "                response = f\"Berdasarkan gejala yang Anda sebutkan, sepertinya {current_animal} Anda mengalami {disease_name}. {first_aid}\"\n",
        "                # Reset percakapan\n",
        "                conversation_state = 'initial'\n",
        "                current_animal = None\n",
        "                symptoms_list = []\n",
        "                return response\n",
        "            else:\n",
        "                conversation_state = 'initial'\n",
        "                current_animal = None\n",
        "                symptoms_list = []\n",
        "                return \"Anda tidak menyebutkan gejala apapun. Ada yang bisa saya bantu?\"\n",
        "        else:\n",
        "            symptoms_list.append(user_input)\n",
        "            return \"Apakah ada gejala lain yang dialami hewan Anda? Jika tidak ada, silakan katakan 'tidak ada'.\"\n",
        "    elif conversation_state == 'asking_animal':\n",
        "        animal = detect_animal_type(user_input)\n",
        "        if animal:\n",
        "            current_animal = animal\n",
        "            conversation_state = 'asking_symptoms'\n",
        "            return f\"Apa gejala yang dialami {current_animal} Anda?\"\n",
        "        else:\n",
        "            return \"Maaf, saya hanya bisa memberikan saran untuk kucing atau anjing. Hewan apa yang Anda miliki?\"\n",
        "    else:\n",
        "        # Cek apakah input adalah percakapan umum\n",
        "        response = get_general_response(user_input)\n",
        "        if response:\n",
        "            return response\n",
        "        # Cek apakah input terkait dengan hewan sakit\n",
        "        elif 'sakit' in user_input.lower() or is_symptom_input(user_input):\n",
        "            animal = detect_animal_type(user_input)\n",
        "            if animal:\n",
        "                current_animal = animal\n",
        "                conversation_state = 'asking_symptoms'\n",
        "                return f\"Apa gejala yang dialami {current_animal} Anda?\"\n",
        "            else:\n",
        "                conversation_state = 'asking_animal'\n",
        "                return \"Hewan apa yang Anda miliki? (kucing/anjing)\"\n",
        "        else:\n",
        "            return \"Maaf, saya tidak mengerti. Bisa dijelaskan lebih lanjut?\""
      ],
      "metadata": {
        "id": "76XF3fY5zjRv"
      },
      "execution_count": 20,
      "outputs": []
    },
    {
      "cell_type": "code",
      "source": [
        "# Loop interaksi dengan pengguna\n",
        "print(\"Chatbot: Halo, ada yang bisa saya bantu?\")\n",
        "while True:\n",
        "    user_input = input(\"Anda: \")\n",
        "    if user_input.lower() in ['exit', 'quit', 'keluar', 'bye', 'sampai jumpa']:\n",
        "        print(\"Chatbot: Terima kasih, semoga membantu!\")\n",
        "        break\n",
        "    response = chatbot_response(user_input)\n",
        "    print(\"Chatbot:\", response)"
      ],
      "metadata": {
        "id": "yw5v9Muuzq9T",
        "outputId": "d9bcd7d7-93eb-41fe-9439-2ce206e654af",
        "colab": {
          "base_uri": "https://localhost:8080/"
        }
      },
      "execution_count": null,
      "outputs": [
        {
          "output_type": "stream",
          "name": "stdout",
          "text": [
            "Chatbot: Halo, ada yang bisa saya bantu?\n",
            "Anda: halo\n",
            "Chatbot: Halo! Ada yang bisa saya bantu?\n",
            "Anda: siapa kamu\n",
            "Chatbot: Saya adalah Alexa, chatbot yang siap membantu Anda.\n",
            "Anda: saya ingin bertanya\n",
            "Chatbot: Maaf, saya tidak mengerti. Bisa dijelaskan lebih lanjut?\n",
            "Anda: kucing saya sakit\n",
            "Chatbot: Apa gejala yang dialami kucing Anda?\n",
            "Anda: mual\n",
            "Chatbot: Apakah ada gejala lain yang dialami hewan Anda? Jika tidak ada, silakan katakan 'tidak ada'.\n",
            "Anda: demam\n",
            "Chatbot: Apakah ada gejala lain yang dialami hewan Anda? Jika tidak ada, silakan katakan 'tidak ada'.\n",
            "Anda: tidak ada\n",
            "\u001b[1m1/1\u001b[0m \u001b[32m━━━━━━━━━━━━━━━━━━━━\u001b[0m\u001b[37m\u001b[0m \u001b[1m0s\u001b[0m 118ms/step\n",
            "Chatbot: Berdasarkan gejala yang Anda sebutkan, sepertinya kucing Anda mengalami Feline Leukemia Virus. Isolasi kucing yang terinfeksi, berikan perawatan suportif, konsultasi dokter hewan. Pastikan untuk konsultasi dengan dokter hewan.\n"
          ]
        }
      ]
    },
    {
      "cell_type": "code",
      "source": [],
      "metadata": {
        "id": "KfSDmN0FzuBg"
      },
      "execution_count": null,
      "outputs": []
    }
  ]
}